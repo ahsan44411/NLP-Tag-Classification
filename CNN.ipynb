{
 "cells": [
  {
   "cell_type": "code",
   "execution_count": 1,
   "metadata": {},
   "outputs": [],
   "source": [
    "import pandas as pd\n",
    "import numpy\n",
    "import nltk\n",
    "import re\n",
    "import seaborn as sns\n",
    "import matplotlib.pyplot as plt\n",
    "\n"
   ]
  },
  {
   "cell_type": "code",
   "execution_count": 2,
   "metadata": {},
   "outputs": [],
   "source": [
    "# Cleaning Data and preparing it for use.\n",
    "\n",
    "data = []\n",
    "with open('final.csv.xls',encoding='utf-8') as csv_file:\n",
    "    for row in csv_file:\n",
    "        row = row[1:]\n",
    "        number = ''\n",
    "        title = ''\n",
    "        tag = ''\n",
    "        if '\"\"' in row:\n",
    "            try:\n",
    "                index1 = row.index('\"\"')\n",
    "                index2 = row.index('\",')\n",
    "                number = row[:index1-1]\n",
    "                title = row[index1+2:index2-1]\n",
    "                tag = row[index2+2:]\n",
    "\n",
    "                title = title.replace(',','')\n",
    "\n",
    "                row = number +','+ title +','+ tag\n",
    "                row = row.split(',')\n",
    "            except:\n",
    "                continue\n",
    "                \n",
    "        else:\n",
    "            row = row.split(',')\n",
    "            \n",
    "\n",
    "        row[2] = row[2].replace('\"\\n','')\n",
    "        data.append(row)"
   ]
  },
  {
   "cell_type": "code",
   "execution_count": 4,
   "metadata": {},
   "outputs": [],
   "source": [
    "# Making a dataframe\n",
    "\n",
    "data1 = data.copy()\n",
    "column_names = data1.pop(0)\n",
    "df = pd.DataFrame(data1,columns=['Number','Title','Tag'])\n",
    "df = df.drop(columns = ['Number'])"
   ]
  },
  {
   "cell_type": "code",
   "execution_count": 5,
   "metadata": {},
   "outputs": [
    {
     "data": {
      "text/plain": [
       "[none]      2385\n",
       "the         1381\n",
       "nba          450\n",
       "buzzfeed     368\n",
       "latest       322\n",
       "            ... \n",
       "biology        1\n",
       "tholi          1\n",
       "doria          1\n",
       "western        1\n",
       "yakiniku       1\n",
       "Name: Tag, Length: 5208, dtype: int64"
      ]
     },
     "execution_count": 5,
     "metadata": {},
     "output_type": "execute_result"
    }
   ],
   "source": [
    "# getting tag/label counts\n",
    "df.Tag.value_counts()"
   ]
  },
  {
   "cell_type": "code",
   "execution_count": 6,
   "metadata": {},
   "outputs": [],
   "source": [
    "import re\n",
    "import string\n",
    "\n",
    "\n",
    "# funtion for removing punctionation\n",
    "def remove_punct(text):\n",
    "    text_nopunct = ''\n",
    "    text_nopunct = re.sub('['+string.punctuation+']', '', text)\n",
    "    return text_nopunct\n",
    "df['Clean_Title'] = df['Title'].apply(lambda x: remove_punct(x))"
   ]
  },
  {
   "cell_type": "code",
   "execution_count": 7,
   "metadata": {},
   "outputs": [
    {
     "name": "stderr",
     "output_type": "stream",
     "text": [
      "[nltk_data] Downloading package punkt to\n",
      "[nltk_data]     C:\\Users\\Ahsan\\AppData\\Roaming\\nltk_data...\n",
      "[nltk_data]   Package punkt is already up-to-date!\n"
     ]
    }
   ],
   "source": [
    "# tokenizing the titles of the dataset and placing them in lists\n",
    "\n",
    "from nltk import word_tokenize\n",
    "nltk.download('punkt')\n",
    "\n",
    "tokens = [word_tokenize(sen) for sen in df.Clean_Title]"
   ]
  },
  {
   "cell_type": "code",
   "execution_count": 8,
   "metadata": {},
   "outputs": [],
   "source": [
    "# Making all the Titles in Lower case \n",
    "\n",
    "def lower_token(tokens): \n",
    "    return [w.lower() for w in tokens]    \n",
    "    \n",
    "lower_tokens = [lower_token(token) for token in tokens]"
   ]
  },
  {
   "cell_type": "code",
   "execution_count": 9,
   "metadata": {},
   "outputs": [
    {
     "name": "stderr",
     "output_type": "stream",
     "text": [
      "[nltk_data] Downloading package stopwords to\n",
      "[nltk_data]     C:\\Users\\Ahsan\\AppData\\Roaming\\nltk_data...\n",
      "[nltk_data]   Package stopwords is already up-to-date!\n"
     ]
    }
   ],
   "source": [
    "# removing stop words\n",
    "\n",
    "from nltk.corpus import stopwords\n",
    "nltk.download('stopwords')\n",
    "stoplist = stopwords.words('english')\n",
    "def removeStopWords(tokens): \n",
    "    return [word for word in tokens if word not in stoplist]\n",
    "\n",
    "filtered_words = [removeStopWords(sen) for sen in lower_tokens]\n",
    "\n",
    "df['Final_Title'] = [' '.join(sen) for sen in filtered_words]\n",
    "df['tokens'] = filtered_words"
   ]
  },
  {
   "cell_type": "code",
   "execution_count": 10,
   "metadata": {},
   "outputs": [
    {
     "data": {
      "text/html": [
       "<div>\n",
       "<style scoped>\n",
       "    .dataframe tbody tr th:only-of-type {\n",
       "        vertical-align: middle;\n",
       "    }\n",
       "\n",
       "    .dataframe tbody tr th {\n",
       "        vertical-align: top;\n",
       "    }\n",
       "\n",
       "    .dataframe thead th {\n",
       "        text-align: right;\n",
       "    }\n",
       "</style>\n",
       "<table border=\"1\" class=\"dataframe\">\n",
       "  <thead>\n",
       "    <tr style=\"text-align: right;\">\n",
       "      <th></th>\n",
       "      <th>Title</th>\n",
       "      <th>Tag</th>\n",
       "      <th>Clean_Title</th>\n",
       "      <th>Final_Title</th>\n",
       "      <th>tokens</th>\n",
       "    </tr>\n",
       "  </thead>\n",
       "  <tbody>\n",
       "    <tr>\n",
       "      <td>0</td>\n",
       "      <td>eminem - walk on water (audio) ft. beyoncé</td>\n",
       "      <td>eminem</td>\n",
       "      <td>eminem  walk on water audio ft beyoncé</td>\n",
       "      <td>eminem walk water audio ft beyoncé</td>\n",
       "      <td>[eminem, walk, water, audio, ft, beyoncé]</td>\n",
       "    </tr>\n",
       "    <tr>\n",
       "      <td>1</td>\n",
       "      <td>plush - bad unboxing fan mail</td>\n",
       "      <td>plush</td>\n",
       "      <td>plush  bad unboxing fan mail</td>\n",
       "      <td>plush bad unboxing fan mail</td>\n",
       "      <td>[plush, bad, unboxing, fan, mail]</td>\n",
       "    </tr>\n",
       "    <tr>\n",
       "      <td>2</td>\n",
       "      <td>racist superman | rudy mancuso king bach &amp; lel...</td>\n",
       "      <td>racist</td>\n",
       "      <td>racist superman  rudy mancuso king bach  lele ...</td>\n",
       "      <td>racist superman rudy mancuso king bach lele pons</td>\n",
       "      <td>[racist, superman, rudy, mancuso, king, bach, ...</td>\n",
       "    </tr>\n",
       "    <tr>\n",
       "      <td>3</td>\n",
       "      <td>i dare you: going bald!?</td>\n",
       "      <td>ryan</td>\n",
       "      <td>i dare you going bald</td>\n",
       "      <td>dare going bald</td>\n",
       "      <td>[dare, going, bald]</td>\n",
       "    </tr>\n",
       "    <tr>\n",
       "      <td>4</td>\n",
       "      <td>ed sheeran - perfect (official music video)</td>\n",
       "      <td>edsheeran</td>\n",
       "      <td>ed sheeran  perfect official music video</td>\n",
       "      <td>ed sheeran perfect official music video</td>\n",
       "      <td>[ed, sheeran, perfect, official, music, video]</td>\n",
       "    </tr>\n",
       "    <tr>\n",
       "      <td>...</td>\n",
       "      <td>...</td>\n",
       "      <td>...</td>\n",
       "      <td>...</td>\n",
       "      <td>...</td>\n",
       "      <td>...</td>\n",
       "    </tr>\n",
       "    <tr>\n",
       "      <td>40869</td>\n",
       "      <td>how2: how to solve a mystery</td>\n",
       "      <td>annoying</td>\n",
       "      <td>how2 how to solve a mystery</td>\n",
       "      <td>how2 solve mystery</td>\n",
       "      <td>[how2, solve, mystery]</td>\n",
       "    </tr>\n",
       "    <tr>\n",
       "      <td>40870</td>\n",
       "      <td>eli lik lik episode 13 partie 01</td>\n",
       "      <td>hkayet</td>\n",
       "      <td>eli lik lik episode 13 partie 01</td>\n",
       "      <td>eli lik lik episode 13 partie 01</td>\n",
       "      <td>[eli, lik, lik, episode, 13, partie, 01]</td>\n",
       "    </tr>\n",
       "    <tr>\n",
       "      <td>40871</td>\n",
       "      <td>kingdom hearts iii – square enix e3 showcase 2...</td>\n",
       "      <td>kingdom</td>\n",
       "      <td>kingdom hearts iii – square enix e3 showcase 2...</td>\n",
       "      <td>kingdom hearts iii – square enix e3 showcase 2...</td>\n",
       "      <td>[kingdom, hearts, iii, –, square, enix, e3, sh...</td>\n",
       "    </tr>\n",
       "    <tr>\n",
       "      <td>40872</td>\n",
       "      <td>trump advisor grovels to trudeau</td>\n",
       "      <td>180612__tb02sorryexcuse</td>\n",
       "      <td>trump advisor grovels to trudeau</td>\n",
       "      <td>trump advisor grovels trudeau</td>\n",
       "      <td>[trump, advisor, grovels, trudeau]</td>\n",
       "    </tr>\n",
       "    <tr>\n",
       "      <td>40873</td>\n",
       "      <td>【完整版】遇到恐怖情人該怎麼辦？2018.06.13小明星大跟班</td>\n",
       "      <td>吳宗憲</td>\n",
       "      <td>【完整版】遇到恐怖情人該怎麼辦？20180613小明星大跟班</td>\n",
       "      <td>【完整版】遇到恐怖情人該怎麼辦？20180613小明星大跟班</td>\n",
       "      <td>[【完整版】遇到恐怖情人該怎麼辦？20180613小明星大跟班]</td>\n",
       "    </tr>\n",
       "  </tbody>\n",
       "</table>\n",
       "<p>40874 rows × 5 columns</p>\n",
       "</div>"
      ],
      "text/plain": [
       "                                                   Title  \\\n",
       "0             eminem - walk on water (audio) ft. beyoncé   \n",
       "1                          plush - bad unboxing fan mail   \n",
       "2      racist superman | rudy mancuso king bach & lel...   \n",
       "3                               i dare you: going bald!?   \n",
       "4            ed sheeran - perfect (official music video)   \n",
       "...                                                  ...   \n",
       "40869                       how2: how to solve a mystery   \n",
       "40870                   eli lik lik episode 13 partie 01   \n",
       "40871  kingdom hearts iii – square enix e3 showcase 2...   \n",
       "40872                   trump advisor grovels to trudeau   \n",
       "40873                   【完整版】遇到恐怖情人該怎麼辦？2018.06.13小明星大跟班   \n",
       "\n",
       "                           Tag  \\\n",
       "0                       eminem   \n",
       "1                        plush   \n",
       "2                       racist   \n",
       "3                         ryan   \n",
       "4                    edsheeran   \n",
       "...                        ...   \n",
       "40869                 annoying   \n",
       "40870                   hkayet   \n",
       "40871                  kingdom   \n",
       "40872  180612__tb02sorryexcuse   \n",
       "40873                      吳宗憲   \n",
       "\n",
       "                                             Clean_Title  \\\n",
       "0                 eminem  walk on water audio ft beyoncé   \n",
       "1                           plush  bad unboxing fan mail   \n",
       "2      racist superman  rudy mancuso king bach  lele ...   \n",
       "3                                  i dare you going bald   \n",
       "4               ed sheeran  perfect official music video   \n",
       "...                                                  ...   \n",
       "40869                        how2 how to solve a mystery   \n",
       "40870                   eli lik lik episode 13 partie 01   \n",
       "40871  kingdom hearts iii – square enix e3 showcase 2...   \n",
       "40872                   trump advisor grovels to trudeau   \n",
       "40873                     【完整版】遇到恐怖情人該怎麼辦？20180613小明星大跟班   \n",
       "\n",
       "                                             Final_Title  \\\n",
       "0                     eminem walk water audio ft beyoncé   \n",
       "1                            plush bad unboxing fan mail   \n",
       "2       racist superman rudy mancuso king bach lele pons   \n",
       "3                                        dare going bald   \n",
       "4                ed sheeran perfect official music video   \n",
       "...                                                  ...   \n",
       "40869                                 how2 solve mystery   \n",
       "40870                   eli lik lik episode 13 partie 01   \n",
       "40871  kingdom hearts iii – square enix e3 showcase 2...   \n",
       "40872                      trump advisor grovels trudeau   \n",
       "40873                     【完整版】遇到恐怖情人該怎麼辦？20180613小明星大跟班   \n",
       "\n",
       "                                                  tokens  \n",
       "0              [eminem, walk, water, audio, ft, beyoncé]  \n",
       "1                      [plush, bad, unboxing, fan, mail]  \n",
       "2      [racist, superman, rudy, mancuso, king, bach, ...  \n",
       "3                                    [dare, going, bald]  \n",
       "4         [ed, sheeran, perfect, official, music, video]  \n",
       "...                                                  ...  \n",
       "40869                             [how2, solve, mystery]  \n",
       "40870           [eli, lik, lik, episode, 13, partie, 01]  \n",
       "40871  [kingdom, hearts, iii, –, square, enix, e3, sh...  \n",
       "40872                 [trump, advisor, grovels, trudeau]  \n",
       "40873                   [【完整版】遇到恐怖情人該怎麼辦？20180613小明星大跟班]  \n",
       "\n",
       "[40874 rows x 5 columns]"
      ]
     },
     "execution_count": 10,
     "metadata": {},
     "output_type": "execute_result"
    }
   ],
   "source": [
    "df"
   ]
  },
  {
   "cell_type": "code",
   "execution_count": null,
   "metadata": {},
   "outputs": [],
   "source": []
  },
  {
   "cell_type": "code",
   "execution_count": 11,
   "metadata": {},
   "outputs": [],
   "source": [
    "from sklearn.preprocessing import MultiLabelBinarizer\n",
    "from tqdm import tqdm\n",
    "from sklearn.feature_extraction.text import TfidfVectorizer\n",
    "from sklearn.model_selection import train_test_split\n",
    "from sklearn.feature_extraction.text import CountVectorizer\n",
    "import numpy as np\n"
   ]
  },
  {
   "cell_type": "code",
   "execution_count": 12,
   "metadata": {},
   "outputs": [],
   "source": [
    "from numpy import array\n",
    "from numpy import argmax\n",
    "from sklearn.preprocessing import LabelEncoder\n",
    "from sklearn.preprocessing import OneHotEncoder\n",
    "\n",
    "\n",
    "# Creating onehot encoding with the labels\n",
    "def onehot(df):\n",
    "    values = array(df)\n",
    "\n",
    "    # integer encode\n",
    "    label_encoder = LabelEncoder()\n",
    "    integer_encoded = label_encoder.fit_transform(values)\n",
    "\n",
    "    # binary encode\n",
    "    onehot_encoder = OneHotEncoder(sparse=False)\n",
    "    integer_encoded = integer_encoded.reshape(len(integer_encoded), 1)\n",
    "    onehot_encoded = onehot_encoder.fit_transform(integer_encoded)\n",
    "\n",
    "    return label_encoder, onehot_encoded"
   ]
  },
  {
   "cell_type": "code",
   "execution_count": 13,
   "metadata": {},
   "outputs": [],
   "source": [
    "# Data split 90% to 10%\n",
    "\n",
    "from sklearn.model_selection import train_test_split\n",
    "data_train, data_test = train_test_split(df, test_size=0.10, random_state=42)"
   ]
  },
  {
   "cell_type": "code",
   "execution_count": 14,
   "metadata": {},
   "outputs": [],
   "source": [
    "train_label_encoder, train_onehot = onehot(data_train['Tag'])"
   ]
  },
  {
   "cell_type": "code",
   "execution_count": 15,
   "metadata": {},
   "outputs": [
    {
     "name": "stdout",
     "output_type": "stream",
     "text": [
      "266205 words total, with a vocabulary size of 30876\n",
      "Max sentence length is 27\n"
     ]
    }
   ],
   "source": [
    "# Creating a vocabulary of words of training dataset\n",
    "# Getting the Maximum Length of the titles i.e 27\n",
    "\n",
    "all_training_words = [word for tokens in data_train[\"tokens\"] for word in tokens]\n",
    "training_sentence_lengths = [len(tokens) for tokens in data_train[\"tokens\"]]\n",
    "TRAINING_VOCAB = sorted(list(set(all_training_words)))\n",
    "print(\"%s words total, with a vocabulary size of %s\" % (len(all_training_words), len(TRAINING_VOCAB)))\n",
    "print(\"Max sentence length is %s\" % max(training_sentence_lengths))"
   ]
  },
  {
   "cell_type": "code",
   "execution_count": 16,
   "metadata": {},
   "outputs": [
    {
     "name": "stdout",
     "output_type": "stream",
     "text": [
      "29782 words total, with a vocabulary size of 10079\n",
      "Max sentence length is 26\n"
     ]
    }
   ],
   "source": [
    "# Creating a vocabulary of words of testing dataset\n",
    "# Getting the Maximum Length of the titles i.e 26\n",
    "\n",
    "all_test_words = [word for tokens in data_test[\"tokens\"] for word in tokens]\n",
    "test_sentence_lengths = [len(tokens) for tokens in data_test[\"tokens\"]]\n",
    "TEST_VOCAB = sorted(list(set(all_test_words)))\n",
    "print(\"%s words total, with a vocabulary size of %s\" % (len(all_test_words), len(TEST_VOCAB)))\n",
    "print(\"Max sentence length is %s\" % max(test_sentence_lengths))"
   ]
  },
  {
   "cell_type": "code",
   "execution_count": 17,
   "metadata": {},
   "outputs": [],
   "source": [
    "MAX_SEQUENCE_LENGTH =  max(training_sentence_lengths)\n",
    "EMBEDDING_DIM = 300"
   ]
  },
  {
   "cell_type": "code",
   "execution_count": 18,
   "metadata": {},
   "outputs": [
    {
     "data": {
      "text/html": [
       "<div>\n",
       "<style scoped>\n",
       "    .dataframe tbody tr th:only-of-type {\n",
       "        vertical-align: middle;\n",
       "    }\n",
       "\n",
       "    .dataframe tbody tr th {\n",
       "        vertical-align: top;\n",
       "    }\n",
       "\n",
       "    .dataframe thead th {\n",
       "        text-align: right;\n",
       "    }\n",
       "</style>\n",
       "<table border=\"1\" class=\"dataframe\">\n",
       "  <thead>\n",
       "    <tr style=\"text-align: right;\">\n",
       "      <th></th>\n",
       "      <th>Title</th>\n",
       "      <th>Tag</th>\n",
       "      <th>Clean_Title</th>\n",
       "      <th>Final_Title</th>\n",
       "      <th>tokens</th>\n",
       "    </tr>\n",
       "  </thead>\n",
       "  <tbody>\n",
       "    <tr>\n",
       "      <td>14453</td>\n",
       "      <td>taarak mehta ka ooltah chashmah - ep 2388 - fu...</td>\n",
       "      <td>sab</td>\n",
       "      <td>taarak mehta ka ooltah chashmah  ep 2388  full...</td>\n",
       "      <td>taarak mehta ka ooltah chashmah ep 2388 full e...</td>\n",
       "      <td>[taarak, mehta, ka, ooltah, chashmah, ep, 2388...</td>\n",
       "    </tr>\n",
       "    <tr>\n",
       "      <td>8021</td>\n",
       "      <td>rwby volume 5: chapter 10 - true colors | roos...</td>\n",
       "      <td>rooster</td>\n",
       "      <td>rwby volume 5 chapter 10  true colors  rooster...</td>\n",
       "      <td>rwby volume 5 chapter 10 true colors rooster t...</td>\n",
       "      <td>[rwby, volume, 5, chapter, 10, true, colors, r...</td>\n",
       "    </tr>\n",
       "    <tr>\n",
       "      <td>11321</td>\n",
       "      <td>the view january 8 2018 - ana navarro; lindsey...</td>\n",
       "      <td>[none]</td>\n",
       "      <td>the view january 8 2018  ana navarro lindsey g...</td>\n",
       "      <td>view january 8 2018 ana navarro lindsey graham...</td>\n",
       "      <td>[view, january, 8, 2018, ana, navarro, lindsey...</td>\n",
       "    </tr>\n",
       "    <tr>\n",
       "      <td>25077</td>\n",
       "      <td>the voice behind 250 of your favorite cartoons</td>\n",
       "      <td>great</td>\n",
       "      <td>the voice behind 250 of your favorite cartoons</td>\n",
       "      <td>voice behind 250 favorite cartoons</td>\n",
       "      <td>[voice, behind, 250, favorite, cartoons]</td>\n",
       "    </tr>\n",
       "    <tr>\n",
       "      <td>1113</td>\n",
       "      <td>sudbury santa claus parade 2017</td>\n",
       "      <td>live</td>\n",
       "      <td>sudbury santa claus parade 2017</td>\n",
       "      <td>sudbury santa claus parade 2017</td>\n",
       "      <td>[sudbury, santa, claus, parade, 2017]</td>\n",
       "    </tr>\n",
       "    <tr>\n",
       "      <td>...</td>\n",
       "      <td>...</td>\n",
       "      <td>...</td>\n",
       "      <td>...</td>\n",
       "      <td>...</td>\n",
       "      <td>...</td>\n",
       "    </tr>\n",
       "    <tr>\n",
       "      <td>6265</td>\n",
       "      <td>the sacred riana spooked jay park - results sh...</td>\n",
       "      <td>asia's</td>\n",
       "      <td>the sacred riana spooked jay park  results sho...</td>\n",
       "      <td>sacred riana spooked jay park results show asi...</td>\n",
       "      <td>[sacred, riana, spooked, jay, park, results, s...</td>\n",
       "    </tr>\n",
       "    <tr>\n",
       "      <td>11284</td>\n",
       "      <td>strange things happening in ecuador..</td>\n",
       "      <td>mystery</td>\n",
       "      <td>strange things happening in ecuador</td>\n",
       "      <td>strange things happening ecuador</td>\n",
       "      <td>[strange, things, happening, ecuador]</td>\n",
       "    </tr>\n",
       "    <tr>\n",
       "      <td>38158</td>\n",
       "      <td>hayley kiyoko - what i need (feat. kehlani) [o...</td>\n",
       "      <td>kehlani</td>\n",
       "      <td>hayley kiyoko  what i need feat kehlani offici...</td>\n",
       "      <td>hayley kiyoko need feat kehlani official video</td>\n",
       "      <td>[hayley, kiyoko, need, feat, kehlani, official...</td>\n",
       "    </tr>\n",
       "    <tr>\n",
       "      <td>860</td>\n",
       "      <td>《猎场》22、23、24、25集最全预告集合：郑秋冬误会罗伊人有新恋情，第一次猎头成功，闽京...</td>\n",
       "      <td>热播剧、剧透、预告、胡歌、陈龙、孙红雷、张嘉译、祖峰、胡兵、菅纫姿、万茜、郑秋冬、刘量体、林...</td>\n",
       "      <td>《猎场》22、23、24、25集最全预告集合：郑秋冬误会罗伊人有新恋情，第一次猎头成功，闽京...</td>\n",
       "      <td>《猎场》22、23、24、25集最全预告集合：郑秋冬误会罗伊人有新恋情，第一次猎头成功，闽京...</td>\n",
       "      <td>[《猎场》22、23、24、25集最全预告集合：郑秋冬误会罗伊人有新恋情，第一次猎头成功，闽...</td>\n",
       "    </tr>\n",
       "    <tr>\n",
       "      <td>15795</td>\n",
       "      <td>crime patrol dial 100  -  ep 703 -  full episo...</td>\n",
       "      <td>TRUE</td>\n",
       "      <td>crime patrol dial 100    ep 703   full episode...</td>\n",
       "      <td>crime patrol dial 100 ep 703 full episode 31st...</td>\n",
       "      <td>[crime, patrol, dial, 100, ep, 703, full, epis...</td>\n",
       "    </tr>\n",
       "  </tbody>\n",
       "</table>\n",
       "<p>36786 rows × 5 columns</p>\n",
       "</div>"
      ],
      "text/plain": [
       "                                                   Title  \\\n",
       "14453  taarak mehta ka ooltah chashmah - ep 2388 - fu...   \n",
       "8021   rwby volume 5: chapter 10 - true colors | roos...   \n",
       "11321  the view january 8 2018 - ana navarro; lindsey...   \n",
       "25077     the voice behind 250 of your favorite cartoons   \n",
       "1113                     sudbury santa claus parade 2017   \n",
       "...                                                  ...   \n",
       "6265   the sacred riana spooked jay park - results sh...   \n",
       "11284              strange things happening in ecuador..   \n",
       "38158  hayley kiyoko - what i need (feat. kehlani) [o...   \n",
       "860    《猎场》22、23、24、25集最全预告集合：郑秋冬误会罗伊人有新恋情，第一次猎头成功，闽京...   \n",
       "15795  crime patrol dial 100  -  ep 703 -  full episo...   \n",
       "\n",
       "                                                     Tag  \\\n",
       "14453                                                sab   \n",
       "8021                                             rooster   \n",
       "11321                                             [none]   \n",
       "25077                                              great   \n",
       "1113                                                live   \n",
       "...                                                  ...   \n",
       "6265                                              asia's   \n",
       "11284                                            mystery   \n",
       "38158                                            kehlani   \n",
       "860    热播剧、剧透、预告、胡歌、陈龙、孙红雷、张嘉译、祖峰、胡兵、菅纫姿、万茜、郑秋冬、刘量体、林...   \n",
       "15795                                               TRUE   \n",
       "\n",
       "                                             Clean_Title  \\\n",
       "14453  taarak mehta ka ooltah chashmah  ep 2388  full...   \n",
       "8021   rwby volume 5 chapter 10  true colors  rooster...   \n",
       "11321  the view january 8 2018  ana navarro lindsey g...   \n",
       "25077     the voice behind 250 of your favorite cartoons   \n",
       "1113                     sudbury santa claus parade 2017   \n",
       "...                                                  ...   \n",
       "6265   the sacred riana spooked jay park  results sho...   \n",
       "11284                strange things happening in ecuador   \n",
       "38158  hayley kiyoko  what i need feat kehlani offici...   \n",
       "860    《猎场》22、23、24、25集最全预告集合：郑秋冬误会罗伊人有新恋情，第一次猎头成功，闽京...   \n",
       "15795  crime patrol dial 100    ep 703   full episode...   \n",
       "\n",
       "                                             Final_Title  \\\n",
       "14453  taarak mehta ka ooltah chashmah ep 2388 full e...   \n",
       "8021   rwby volume 5 chapter 10 true colors rooster t...   \n",
       "11321  view january 8 2018 ana navarro lindsey graham...   \n",
       "25077                 voice behind 250 favorite cartoons   \n",
       "1113                     sudbury santa claus parade 2017   \n",
       "...                                                  ...   \n",
       "6265   sacred riana spooked jay park results show asi...   \n",
       "11284                   strange things happening ecuador   \n",
       "38158     hayley kiyoko need feat kehlani official video   \n",
       "860    《猎场》22、23、24、25集最全预告集合：郑秋冬误会罗伊人有新恋情，第一次猎头成功，闽京...   \n",
       "15795  crime patrol dial 100 ep 703 full episode 31st...   \n",
       "\n",
       "                                                  tokens  \n",
       "14453  [taarak, mehta, ka, ooltah, chashmah, ep, 2388...  \n",
       "8021   [rwby, volume, 5, chapter, 10, true, colors, r...  \n",
       "11321  [view, january, 8, 2018, ana, navarro, lindsey...  \n",
       "25077           [voice, behind, 250, favorite, cartoons]  \n",
       "1113               [sudbury, santa, claus, parade, 2017]  \n",
       "...                                                  ...  \n",
       "6265   [sacred, riana, spooked, jay, park, results, s...  \n",
       "11284              [strange, things, happening, ecuador]  \n",
       "38158  [hayley, kiyoko, need, feat, kehlani, official...  \n",
       "860    [《猎场》22、23、24、25集最全预告集合：郑秋冬误会罗伊人有新恋情，第一次猎头成功，闽...  \n",
       "15795  [crime, patrol, dial, 100, ep, 703, full, epis...  \n",
       "\n",
       "[36786 rows x 5 columns]"
      ]
     },
     "execution_count": 18,
     "metadata": {},
     "output_type": "execute_result"
    }
   ],
   "source": [
    "data_train"
   ]
  },
  {
   "cell_type": "code",
   "execution_count": 19,
   "metadata": {},
   "outputs": [
    {
     "name": "stderr",
     "output_type": "stream",
     "text": [
      "Using TensorFlow backend.\n"
     ]
    },
    {
     "name": "stdout",
     "output_type": "stream",
     "text": [
      "Found 30866 unique tokens.\n"
     ]
    }
   ],
   "source": [
    "from keras.preprocessing.text import Tokenizer\n",
    "from keras.preprocessing.sequence import pad_sequences\n",
    "\n",
    "\n",
    "# Tokenizing and then padding the titles in the training dataset\n",
    "\n",
    "tokenizer = Tokenizer(num_words=len(TRAINING_VOCAB), lower=True, char_level=False)\n",
    "tokenizer.fit_on_texts(data_train['Final_Title'].tolist())\n",
    "training_sequences = tokenizer.texts_to_sequences(data_train['Final_Title'].tolist())\n",
    "train_word_index = tokenizer.word_index\n",
    "print('Found %s unique tokens.' % len(train_word_index))\n",
    "train_cnn_data = pad_sequences(training_sequences, \n",
    "                               maxlen=MAX_SEQUENCE_LENGTH)"
   ]
  },
  {
   "cell_type": "code",
   "execution_count": 20,
   "metadata": {},
   "outputs": [],
   "source": [
    "from gensim import models\n",
    "\n",
    "# download GoogleNews-vectors-negative300.bin from this github link https://github.com/mmihaltz/word2vec-GoogleNews-vectors\n",
    "# After downloading it place it in the working file.\n",
    "\n",
    "word2vec_path = 'GoogleNews-vectors-negative300.bin'\n",
    "word2vec = models.KeyedVectors.load_word2vec_format(word2vec_path, binary=True)"
   ]
  },
  {
   "cell_type": "code",
   "execution_count": 21,
   "metadata": {},
   "outputs": [
    {
     "name": "stdout",
     "output_type": "stream",
     "text": [
      "(30867, 300)\n"
     ]
    }
   ],
   "source": [
    "import numpy as np\n",
    "\n",
    "train_embedding_weights = np.zeros((len(train_word_index)+1, EMBEDDING_DIM))\n",
    "\n",
    "for word,index in train_word_index.items():\n",
    "    train_embedding_weights[index,:] = word2vec[word] if word in word2vec else np.random.rand(EMBEDDING_DIM)\n",
    "\n",
    "print(train_embedding_weights.shape)"
   ]
  },
  {
   "cell_type": "code",
   "execution_count": 24,
   "metadata": {},
   "outputs": [],
   "source": [
    "# The CNN\n",
    "def ConvNet(embeddings, max_sequence_length, num_words, embedding_dim, labels_index):\n",
    "    \n",
    "#     Embedding Layer\n",
    "    embedding_layer = Embedding(num_words, embedding_dim, weights=[embeddings],\n",
    "                               input_length = max_sequence_length,\n",
    "                               trainable = False)\n",
    "    \n",
    "#     Specifying the sequence input\n",
    "    sequence_input = Input(shape = (max_sequence_length,), dtype='int32')\n",
    "    \n",
    "    embedded_sequences = embedding_layer(sequence_input)\n",
    "    \n",
    "    convs = []\n",
    "#     filter sizes - you can change these but I have observed that an incease pattern improves the results\n",
    "    filter_sizes = [2,3,4,5,6,7]\n",
    "\n",
    "    #     CNN has 7 blocks\n",
    "\n",
    "\n",
    "    for filter_size in filter_sizes: # 6 blocks in loop - Each Block has - 1 D Convolution Layer and Global Max Pooling Layer\n",
    "        l_conv = Conv1D(filters=200, kernel_size=filter_size, activation='relu')(embedded_sequences)\n",
    "        l_pool = GlobalMaxPooling1D()(l_conv)\n",
    "        convs.append(l_pool)\n",
    "  \n",
    "    \n",
    "    l_merge = concatenate(convs, axis=1)\n",
    "    \n",
    "#     Last block has a dropout layer of 0.1, a Dense Layer\n",
    "    x = Dropout(0.1)(l_merge)  \n",
    "    x = Dense(128, activation='relu')(x)\n",
    "    x = Dropout(0.2)(x)\n",
    "    \n",
    "    preds = Dense(labels_index, activation='softmax')(x)\n",
    "    \n",
    "    model = Model(sequence_input, preds)\n",
    "    \n",
    "    model.compile(loss='categorical_crossentropy',optimizer='adam',metrics=['acc'])\n",
    "    \n",
    "    model.summary()\n",
    "    \n",
    "    return model\n"
   ]
  },
  {
   "cell_type": "code",
   "execution_count": 25,
   "metadata": {},
   "outputs": [
    {
     "name": "stdout",
     "output_type": "stream",
     "text": [
      "Model: \"model_1\"\n",
      "__________________________________________________________________________________________________\n",
      "Layer (type)                    Output Shape         Param #     Connected to                     \n",
      "==================================================================================================\n",
      "input_1 (InputLayer)            (None, 27)           0                                            \n",
      "__________________________________________________________________________________________________\n",
      "embedding_1 (Embedding)         (None, 27, 300)      9260100     input_1[0][0]                    \n",
      "__________________________________________________________________________________________________\n",
      "conv1d_1 (Conv1D)               (None, 26, 200)      120200      embedding_1[0][0]                \n",
      "__________________________________________________________________________________________________\n",
      "conv1d_2 (Conv1D)               (None, 25, 200)      180200      embedding_1[0][0]                \n",
      "__________________________________________________________________________________________________\n",
      "conv1d_3 (Conv1D)               (None, 24, 200)      240200      embedding_1[0][0]                \n",
      "__________________________________________________________________________________________________\n",
      "conv1d_4 (Conv1D)               (None, 23, 200)      300200      embedding_1[0][0]                \n",
      "__________________________________________________________________________________________________\n",
      "conv1d_5 (Conv1D)               (None, 22, 200)      360200      embedding_1[0][0]                \n",
      "__________________________________________________________________________________________________\n",
      "conv1d_6 (Conv1D)               (None, 21, 200)      420200      embedding_1[0][0]                \n",
      "__________________________________________________________________________________________________\n",
      "global_max_pooling1d_1 (GlobalM (None, 200)          0           conv1d_1[0][0]                   \n",
      "__________________________________________________________________________________________________\n",
      "global_max_pooling1d_2 (GlobalM (None, 200)          0           conv1d_2[0][0]                   \n",
      "__________________________________________________________________________________________________\n",
      "global_max_pooling1d_3 (GlobalM (None, 200)          0           conv1d_3[0][0]                   \n",
      "__________________________________________________________________________________________________\n",
      "global_max_pooling1d_4 (GlobalM (None, 200)          0           conv1d_4[0][0]                   \n",
      "__________________________________________________________________________________________________\n",
      "global_max_pooling1d_5 (GlobalM (None, 200)          0           conv1d_5[0][0]                   \n",
      "__________________________________________________________________________________________________\n",
      "global_max_pooling1d_6 (GlobalM (None, 200)          0           conv1d_6[0][0]                   \n",
      "__________________________________________________________________________________________________\n",
      "concatenate_1 (Concatenate)     (None, 1200)         0           global_max_pooling1d_1[0][0]     \n",
      "                                                                 global_max_pooling1d_2[0][0]     \n",
      "                                                                 global_max_pooling1d_3[0][0]     \n",
      "                                                                 global_max_pooling1d_4[0][0]     \n",
      "                                                                 global_max_pooling1d_5[0][0]     \n",
      "                                                                 global_max_pooling1d_6[0][0]     \n",
      "__________________________________________________________________________________________________\n",
      "dropout_1 (Dropout)             (None, 1200)         0           concatenate_1[0][0]              \n",
      "__________________________________________________________________________________________________\n",
      "dense_1 (Dense)                 (None, 128)          153728      dropout_1[0][0]                  \n",
      "__________________________________________________________________________________________________\n",
      "dropout_2 (Dropout)             (None, 128)          0           dense_1[0][0]                    \n",
      "__________________________________________________________________________________________________\n",
      "dense_2 (Dense)                 (None, 5015)         646935      dropout_2[0][0]                  \n",
      "==================================================================================================\n",
      "Total params: 11,681,963\n",
      "Trainable params: 2,421,863\n",
      "Non-trainable params: 9,260,100\n",
      "__________________________________________________________________________________________________\n"
     ]
    }
   ],
   "source": [
    "# compiling the model\n",
    "from keras.layers import Dense, Dropout, Reshape, Flatten, concatenate, Input, Conv1D, GlobalMaxPooling1D, Embedding\n",
    "from keras.models import Model\n",
    "from keras.callbacks import ModelCheckpoint\n",
    "from keras.models import load_model\n",
    "from keras.callbacks import EarlyStopping\n",
    "\n",
    "model = ConvNet(train_embedding_weights, MAX_SEQUENCE_LENGTH, len(train_word_index)+1, EMBEDDING_DIM, 5015)"
   ]
  },
  {
   "cell_type": "code",
   "execution_count": 26,
   "metadata": {},
   "outputs": [],
   "source": [
    "# set number of epochs and batch sizes\n",
    "num_epochs = 50\n",
    "batch_size = 30"
   ]
  },
  {
   "cell_type": "code",
   "execution_count": 27,
   "metadata": {},
   "outputs": [],
   "source": [
    "y_tr = train_onehot\n",
    "x_train = train_cnn_data"
   ]
  },
  {
   "cell_type": "code",
   "execution_count": null,
   "metadata": {
    "scrolled": true
   },
   "outputs": [],
   "source": [
    "# Fit the model\n",
    "# training for the first time and saving the weights as model.h5\n",
    "# The model will stop training if the loss is not dropping. Incease the patience or remove the earlyStopping from the callbacks -\n",
    "# from the model.fit() function\n",
    "\n",
    "earlyStopping = EarlyStopping(monitor='val_loss', patience=10, verbose=0, mode='auto')\n",
    "\n",
    "checkpoint = ModelCheckpoint(\"model1.h5\", monitor='loss', verbose=2, save_best_only=True, mode='min')\n",
    "callbacks_list = [checkpoint]\n",
    "\n",
    "history = model.fit(x_train, y_tr, verbose=2, epochs=num_epochs, batch_size=batch_size, callbacks=[checkpoint], validation_split=0.1, shuffle=True)"
   ]
  },
  {
   "cell_type": "code",
   "execution_count": null,
   "metadata": {},
   "outputs": [],
   "source": []
  },
  {
   "cell_type": "code",
   "execution_count": 28,
   "metadata": {
    "scrolled": true
   },
   "outputs": [],
   "source": [
    "'''\n",
    "to load model weights \"model.h5\" and train it again for more epochs\n",
    "I have provided the model.h5 file so you can reload the weights\n",
    "The model will stop training if the loss is not dropping. Incease the patience or remove the earlyStopping from the callbacks -\n",
    "from the model.fit() function\n",
    "'''\n",
    "\n",
    "model = load_model(\"model.h5\")\n",
    "earlyStopping = EarlyStopping(monitor='val_loss', patience=10, verbose=0, mode='auto')\n",
    "checkpoint = ModelCheckpoint(\"model.h5\", monitor='loss', verbose=2, save_best_only=True, mode='min')\n",
    "callbacks_list = [checkpoint]\n",
    "\n",
    "# history = model.fit(x_train, y_tr, verbose=2, epochs=num_epochs, batch_size=batch_size, callbacks=[earlyStopping, checkpoint], validation_split=0.1, shuffle=True)"
   ]
  },
  {
   "cell_type": "code",
   "execution_count": 29,
   "metadata": {},
   "outputs": [],
   "source": [
    "# Tokenize the test data and pad it\n",
    "test_sequences = tokenizer.texts_to_sequences(data_test['Final_Title'].tolist())\n",
    "test_cnn_data = pad_sequences(test_sequences, maxlen=MAX_SEQUENCE_LENGTH)"
   ]
  },
  {
   "cell_type": "code",
   "execution_count": 31,
   "metadata": {},
   "outputs": [],
   "source": [
    "# Make predictions\n",
    "\n",
    "predictions = model.predict(test_cnn_data, verbose=2)  "
   ]
  },
  {
   "cell_type": "code",
   "execution_count": 32,
   "metadata": {},
   "outputs": [],
   "source": [
    "# making the onehot encoding of the test dataset\n",
    "test_label_encoder, test_onehot = onehot(data_test['Tag'])"
   ]
  },
  {
   "cell_type": "code",
   "execution_count": 33,
   "metadata": {},
   "outputs": [
    {
     "name": "stdout",
     "output_type": "stream",
     "text": [
      "72.57827788649706\n"
     ]
    }
   ],
   "source": [
    "# getting accuracy\n",
    "\n",
    "correct = 0\n",
    "for i in range(len(test_onehot)):\n",
    "    original = test_label_encoder.inverse_transform([argmax(test_onehot[i, :])])\n",
    "    predicted = train_label_encoder.inverse_transform([argmax(predictions[i, :])])\n",
    "    \n",
    "    if original[0] == predicted[0]:\n",
    "        correct = correct + 1\n",
    "        \n",
    "print(correct/len(test_onehot)*100)"
   ]
  },
  {
   "cell_type": "code",
   "execution_count": 34,
   "metadata": {},
   "outputs": [
    {
     "name": "stdout",
     "output_type": "stream",
     "text": [
      "['fall']\n",
      "['fall']\n"
     ]
    }
   ],
   "source": [
    "# check the outputs \n",
    "inverted = test_label_encoder.inverse_transform([argmax(test_onehot[6, :])]) \n",
    "print(inverted)\n",
    "inverted = train_label_encoder.inverse_transform([argmax(predictions[6, :])])\n",
    "print(inverted)"
   ]
  },
  {
   "cell_type": "code",
   "execution_count": null,
   "metadata": {},
   "outputs": [],
   "source": []
  },
  {
   "cell_type": "code",
   "execution_count": 106,
   "metadata": {},
   "outputs": [
    {
     "name": "stdout",
     "output_type": "stream",
     "text": [
      "dict_keys(['val_loss', 'val_acc', 'loss', 'acc'])\n"
     ]
    },
    {
     "data": {
      "image/png": "[encoded data removed]",
      "text/plain": [
       "<Figure size 432x288 with 1 Axes>"
      ]
     },
     "metadata": {
      "needs_background": "light"
     },
     "output_type": "display_data"
    },
    {
     "data": {
      "image/png": "[encoded data removed]",
      "text/plain": [
       "<Figure size 432x288 with 1 Axes>"
      ]
     },
     "metadata": {
      "needs_background": "light"
     },
     "output_type": "display_data"
    }
   ],
   "source": [
    "print(history.history.keys())\n",
    "# summarize history for accuracy\n",
    "plt.plot(history.history['acc'])\n",
    "plt.plot(history.history['val_acc'])\n",
    "plt.title('model accuracy')\n",
    "plt.ylabel('accuracy')\n",
    "plt.xlabel('epoch')\n",
    "plt.legend(['train', 'test'], loc='upper left')\n",
    "plt.show()\n",
    "# summarize history for loss\n",
    "plt.plot(history.history['loss'])\n",
    "plt.plot(history.history['val_loss'])\n",
    "plt.title('model loss')\n",
    "plt.ylabel('loss')\n",
    "plt.xlabel('epoch')\n",
    "plt.legend(['train', 'test'], loc='upper left')\n",
    "plt.show()"
   ]
  },
  {
   "cell_type": "code",
   "execution_count": null,
   "metadata": {},
   "outputs": [],
   "source": []
  },
  {
   "cell_type": "code",
   "execution_count": null,
   "metadata": {},
   "outputs": [],
   "source": []
  },
  {
   "cell_type": "code",
   "execution_count": null,
   "metadata": {},
   "outputs": [],
   "source": []
  },
  {
   "cell_type": "code",
   "execution_count": null,
   "metadata": {},
   "outputs": [],
   "source": []
  },
  {
   "cell_type": "code",
   "execution_count": null,
   "metadata": {},
   "outputs": [],
   "source": []
  },
  {
   "cell_type": "code",
   "execution_count": null,
   "metadata": {},
   "outputs": [],
   "source": []
  },
  {
   "cell_type": "code",
   "execution_count": null,
   "metadata": {},
   "outputs": [],
   "source": []
  },
  {
   "cell_type": "code",
   "execution_count": null,
   "metadata": {},
   "outputs": [],
   "source": []
  },
  {
   "cell_type": "code",
   "execution_count": null,
   "metadata": {},
   "outputs": [],
   "source": []
  },
  {
   "cell_type": "code",
   "execution_count": null,
   "metadata": {},
   "outputs": [],
   "source": []
  },
  {
   "cell_type": "code",
   "execution_count": null,
   "metadata": {},
   "outputs": [],
   "source": []
  },
  {
   "cell_type": "code",
   "execution_count": null,
   "metadata": {
    "scrolled": true
   },
   "outputs": [],
   "source": []
  },
  {
   "cell_type": "code",
   "execution_count": null,
   "metadata": {},
   "outputs": [],
   "source": []
  },
  {
   "cell_type": "code",
   "execution_count": null,
   "metadata": {},
   "outputs": [],
   "source": []
  },
  {
   "cell_type": "code",
   "execution_count": null,
   "metadata": {},
   "outputs": [],
   "source": []
  },
  {
   "cell_type": "code",
   "execution_count": null,
   "metadata": {},
   "outputs": [],
   "source": []
  },
  {
   "cell_type": "code",
   "execution_count": null,
   "metadata": {},
   "outputs": [],
   "source": []
  },
  {
   "cell_type": "code",
   "execution_count": null,
   "metadata": {},
   "outputs": [],
   "source": []
  },
  {
   "cell_type": "code",
   "execution_count": null,
   "metadata": {},
   "outputs": [],
   "source": []
  },
  {
   "cell_type": "code",
   "execution_count": null,
   "metadata": {},
   "outputs": [],
   "source": []
  },
  {
   "cell_type": "code",
   "execution_count": null,
   "metadata": {},
   "outputs": [],
   "source": []
  }
 ],
 "metadata": {
  "kernelspec": {
   "display_name": "Python 3",
   "language": "python",
   "name": "python3"
  },
  "language_info": {
   "codemirror_mode": {
    "name": "ipython",
    "version": 3
   },
   "file_extension": ".py",
   "mimetype": "text/x-python",
   "name": "python",
   "nbconvert_exporter": "python",
   "pygments_lexer": "ipython3",
   "version": "3.7.4"
  }
 },
 "nbformat": 4,
 "nbformat_minor": 2
}
